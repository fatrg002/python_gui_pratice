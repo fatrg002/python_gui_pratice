{
 "cells": [
  {
   "cell_type": "code",
   "execution_count": 7,
   "metadata": {},
   "outputs": [
    {
     "name": "stdout",
     "output_type": "stream",
     "text": [
      "HELOO\n",
      "\n",
      "YOYOYO\n"
     ]
    }
   ],
   "source": [
    "from tkinter import *\n",
    "\n",
    "root = Tk()\n",
    "root.title(\"Nado GUI\")\n",
    "root.geometry(\"640x480\")\n",
    "\n",
    "txt = Text(root,width=30,height=5)#輸入文字方塊\n",
    "txt.pack()\n",
    "\n",
    "txt.insert(END,\"글자를 입력하세요\")#請輸入字\n",
    "\n",
    "e =Entry(root,width=30) #輸入框\n",
    "e.pack()\n",
    "e.insert(0,\"한 줄안 입력하세요\")\n",
    "\n",
    "\n",
    "def btncmd():\n",
    "    print(txt.get(\"1.0\",END))\n",
    "    print(e.get())\n",
    "    \n",
    "    txt.delete(\"1.0\",END)\n",
    "    e.delete(0,END)\n",
    "\n",
    "\n",
    "btn = Button(root,text=\"클릭\",command=btncmd)\n",
    "btn.pack()\n",
    "\n",
    "root.mainloop()"
   ]
  },
  {
   "cell_type": "code",
   "execution_count": null,
   "metadata": {},
   "outputs": [],
   "source": []
  },
  {
   "cell_type": "code",
   "execution_count": null,
   "metadata": {},
   "outputs": [],
   "source": []
  }
 ],
 "metadata": {
  "kernelspec": {
   "display_name": "Python 3",
   "language": "python",
   "name": "python3"
  },
  "language_info": {
   "codemirror_mode": {
    "name": "ipython",
    "version": 3
   },
   "file_extension": ".py",
   "mimetype": "text/x-python",
   "name": "python",
   "nbconvert_exporter": "python",
   "pygments_lexer": "ipython3",
   "version": "3.7.3"
  }
 },
 "nbformat": 4,
 "nbformat_minor": 2
}
