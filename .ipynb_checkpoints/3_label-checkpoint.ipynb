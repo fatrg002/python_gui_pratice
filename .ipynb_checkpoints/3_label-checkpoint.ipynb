{
 "cells": [
  {
   "cell_type": "code",
   "execution_count": 2,
   "metadata": {},
   "outputs": [],
   "source": [
    "from tkinter import *\n",
    "from PIL import Image, ImageTk\n",
    "\n",
    "root = Tk()\n",
    "root.title(\"Nado GUI\")\n",
    "label1 = Label(root,text=\"안녕하세요\")\n",
    "label1.pack()\n",
    "\n",
    "photo = PhotoImage(file=\"ok.png\")\n",
    "label2 =Label(root,image=photo)\n",
    "label2.pack()\n",
    "\n",
    "def change():\n",
    "    label1.config(text=\"또 만나요\")\n",
    "    global photo2\n",
    "    photo2 = PhotoImage(file=\"no.png\")\n",
    "    label2.config(image=photo2)\n",
    "    \n",
    "btn = Button(root,text = \"클릭\", command = change)#클릭 click\n",
    "btn.pack()\n",
    "\n",
    "root.mainloop()"
   ]
  },
  {
   "cell_type": "code",
   "execution_count": null,
   "metadata": {},
   "outputs": [],
   "source": []
  }
 ],
 "metadata": {
  "kernelspec": {
   "display_name": "Python 3",
   "language": "python",
   "name": "python3"
  },
  "language_info": {
   "codemirror_mode": {
    "name": "ipython",
    "version": 3
   },
   "file_extension": ".py",
   "mimetype": "text/x-python",
   "name": "python",
   "nbconvert_exporter": "python",
   "pygments_lexer": "ipython3",
   "version": "3.7.3"
  }
 },
 "nbformat": 4,
 "nbformat_minor": 2
}
