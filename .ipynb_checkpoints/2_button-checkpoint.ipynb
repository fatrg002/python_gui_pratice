{
 "cells": [
  {
   "cell_type": "code",
   "execution_count": 1,
   "metadata": {},
   "outputs": [],
   "source": [
    "from tkinter import *\n",
    "from PIL import Image, ImageTk\n",
    "\n",
    "\n",
    "root = Tk()\n",
    "root.title(\"Nado GUI\")#視窗TITLE\n",
    "\n",
    "btn1 = Button(root,text=\"버튼1\")\n",
    "btn1.pack()\n",
    "\n",
    "btn2 = Button(root,padx=5,pady=10,text=\"버튼2\")\n",
    "btn2.pack()\n",
    "\n",
    "btn3 = Button(root,padx=10,pady=5,text=\"버튼3\")\n",
    "btn3.pack()\n",
    "\n",
    "btn4 = Button(root,width =10,height=3,text=\"버튼4\" )\n",
    "btn4.pack()\n",
    "\n",
    "btn5 = Button(root,fg = \"red\",bg=\"yellow\",text=\"버튼5\" )\n",
    "btn5.pack()\n",
    "\n",
    "photo = PhotoImage(file=\"ok.png\")\n",
    "#img = Image.open('123.png')  \n",
    "#photo = ImageTk.PhotoImage(img)\n",
    "\n",
    "btn6 = Button(root,image=photo)\n",
    "btn6.pack()\n",
    "\n",
    "\n",
    "\n",
    "\n",
    "root.mainloop()"
   ]
  },
  {
   "cell_type": "code",
   "execution_count": null,
   "metadata": {},
   "outputs": [],
   "source": []
  }
 ],
 "metadata": {
  "kernelspec": {
   "display_name": "Python 3",
   "language": "python",
   "name": "python3"
  },
  "language_info": {
   "codemirror_mode": {
    "name": "ipython",
    "version": 3
   },
   "file_extension": ".py",
   "mimetype": "text/x-python",
   "name": "python",
   "nbconvert_exporter": "python",
   "pygments_lexer": "ipython3",
   "version": "3.7.3"
  }
 },
 "nbformat": 4,
 "nbformat_minor": 2
}
